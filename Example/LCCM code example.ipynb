{
 "cells": [
  {
   "cell_type": "markdown",
   "metadata": {},
   "source": [
    "# LCCM Code Walk-through Example\n",
    "The following notebook demonstrates how this latent class choice model code works. We will be using an example dataset (Qualtrics data long format.csv) to perform model specification, estimation and sample enumeration. Our objective is to understand mode choice decisions across different latent classes.\n",
    "\n",
    "The dataset being used entails a carsharing dataset used by a UC Berkeley student as part of his/her research. The dataset, called \"Qualtrics data long format.csv\" can be found in the github repository. More detail on the dataset could be found on the github repository as well (QualtricsData.pdf) in terms of the variables being used, etc.\n",
    "\n",
    "The data set was obtained by surveying Bay Area private transit users to understand if users of these services have different modality styles (unobserved latent lifetstyles that dictate the set of modes they consider when making trips and mode choice decisions). Each respondent provided his travel diary for an entire day indicating travel time for the available modes, incurred travel cost, and several other information. Socio-demographic variables where also obtained via the survey.\n",
    "\n",
    "The overall set of possible choices in this dataset was enumerated from 1 to 6 to denote \"Auto\", \"Walk\", \"Bike\", \"Walk to Transit\", \"Drive to Transit\", and \"Private Transit\" alternatives. \n",
    "\n",
    "Troughout this example, we will be highlighting the various steps required to make the lccm package run."
   ]
  },
  {
   "cell_type": "markdown",
   "metadata": {},
   "source": [
    "### Step 1: Import the LCCM Package and All other Necessary Packages"
   ]
  },
  {
   "cell_type": "code",
   "execution_count": 2,
   "metadata": {
    "collapsed": false
   },
   "outputs": [],
   "source": [
    "import lccm\n",
    "import numpy as np\n",
    "import pandas as pd\n",
    "import pylogit\n",
    "import warnings\n",
    "from collections import OrderedDict"
   ]
  },
  {
   "cell_type": "markdown",
   "metadata": {},
   "source": [
    "### Step 2: Load the Dataset.\n",
    "The lccm package handles data in long format (NOT wide format).\n",
    "To see the difference between the two formats run the following lines of code, (make sure your excel files are in the same directory as your code file):\n",
    "\n",
    "df_long = pd.read_csv('Qualtrics data long format.csv')\n",
    "\n",
    "df_long.head()\n",
    "\n",
    "df_wide = pd.read_excel('Qualtrics data wide format.xlsx')\n",
    "\n",
    "df_wide.head()\n",
    "\n",
    "If you do not want to convert the wide formatted data yourself, you can check the following link, which provides instructions regarding how one can convert his/her dataset from wide format to long format. https://github.com/timothyb0912/pylogit/blob/master/examples/notebooks/Main%20PyLogit%20Example.ipynb\n",
    "\n"
   ]
  },
  {
   "cell_type": "code",
   "execution_count": 3,
   "metadata": {
    "collapsed": false
   },
   "outputs": [
    {
     "data": {
      "text/html": [
       "<div>\n",
       "<table border=\"1\" class=\"dataframe\">\n",
       "  <thead>\n",
       "    <tr style=\"text-align: right;\">\n",
       "      <th></th>\n",
       "      <th>custom_id</th>\n",
       "      <th>mode_id</th>\n",
       "      <th>choice</th>\n",
       "      <th>ID</th>\n",
       "      <th>tripID</th>\n",
       "      <th>toll</th>\n",
       "      <th>distance</th>\n",
       "      <th>Age</th>\n",
       "      <th>Gender</th>\n",
       "      <th>bike_ownership</th>\n",
       "      <th>Hhsize</th>\n",
       "      <th>HHIncome</th>\n",
       "      <th>car_ownership</th>\n",
       "      <th>travel_time</th>\n",
       "      <th>travel_cost</th>\n",
       "    </tr>\n",
       "  </thead>\n",
       "  <tbody>\n",
       "    <tr>\n",
       "      <th>0</th>\n",
       "      <td>1</td>\n",
       "      <td>1</td>\n",
       "      <td>0</td>\n",
       "      <td>1</td>\n",
       "      <td>1</td>\n",
       "      <td>0</td>\n",
       "      <td>0.8</td>\n",
       "      <td>31</td>\n",
       "      <td>1</td>\n",
       "      <td>1</td>\n",
       "      <td>2</td>\n",
       "      <td>17</td>\n",
       "      <td>2</td>\n",
       "      <td>0.0627</td>\n",
       "      <td>0.1696</td>\n",
       "    </tr>\n",
       "    <tr>\n",
       "      <th>1</th>\n",
       "      <td>1</td>\n",
       "      <td>2</td>\n",
       "      <td>1</td>\n",
       "      <td>1</td>\n",
       "      <td>1</td>\n",
       "      <td>0</td>\n",
       "      <td>0.8</td>\n",
       "      <td>31</td>\n",
       "      <td>1</td>\n",
       "      <td>1</td>\n",
       "      <td>2</td>\n",
       "      <td>17</td>\n",
       "      <td>2</td>\n",
       "      <td>0.2667</td>\n",
       "      <td>0.0000</td>\n",
       "    </tr>\n",
       "    <tr>\n",
       "      <th>2</th>\n",
       "      <td>1</td>\n",
       "      <td>3</td>\n",
       "      <td>0</td>\n",
       "      <td>1</td>\n",
       "      <td>1</td>\n",
       "      <td>0</td>\n",
       "      <td>0.8</td>\n",
       "      <td>31</td>\n",
       "      <td>1</td>\n",
       "      <td>1</td>\n",
       "      <td>2</td>\n",
       "      <td>17</td>\n",
       "      <td>2</td>\n",
       "      <td>0.0667</td>\n",
       "      <td>0.0000</td>\n",
       "    </tr>\n",
       "    <tr>\n",
       "      <th>3</th>\n",
       "      <td>1</td>\n",
       "      <td>4</td>\n",
       "      <td>0</td>\n",
       "      <td>1</td>\n",
       "      <td>1</td>\n",
       "      <td>0</td>\n",
       "      <td>0.8</td>\n",
       "      <td>31</td>\n",
       "      <td>1</td>\n",
       "      <td>1</td>\n",
       "      <td>2</td>\n",
       "      <td>17</td>\n",
       "      <td>2</td>\n",
       "      <td>0.6207</td>\n",
       "      <td>1.4100</td>\n",
       "    </tr>\n",
       "    <tr>\n",
       "      <th>4</th>\n",
       "      <td>1</td>\n",
       "      <td>5</td>\n",
       "      <td>0</td>\n",
       "      <td>1</td>\n",
       "      <td>1</td>\n",
       "      <td>0</td>\n",
       "      <td>0.8</td>\n",
       "      <td>31</td>\n",
       "      <td>1</td>\n",
       "      <td>1</td>\n",
       "      <td>2</td>\n",
       "      <td>17</td>\n",
       "      <td>2</td>\n",
       "      <td>0.4450</td>\n",
       "      <td>1.4100</td>\n",
       "    </tr>\n",
       "  </tbody>\n",
       "</table>\n",
       "</div>"
      ],
      "text/plain": [
       "   custom_id  mode_id  choice  ID  tripID  toll  distance  Age  Gender  \\\n",
       "0          1        1       0   1       1     0       0.8   31       1   \n",
       "1          1        2       1   1       1     0       0.8   31       1   \n",
       "2          1        3       0   1       1     0       0.8   31       1   \n",
       "3          1        4       0   1       1     0       0.8   31       1   \n",
       "4          1        5       0   1       1     0       0.8   31       1   \n",
       "\n",
       "   bike_ownership  Hhsize  HHIncome  car_ownership  travel_time  travel_cost  \n",
       "0               1       2        17              2       0.0627       0.1696  \n",
       "1               1       2        17              2       0.2667       0.0000  \n",
       "2               1       2        17              2       0.0667       0.0000  \n",
       "3               1       2        17              2       0.6207       1.4100  \n",
       "4               1       2        17              2       0.4450       1.4100  "
      ]
     },
     "execution_count": 3,
     "metadata": {},
     "output_type": "execute_result"
    }
   ],
   "source": [
    "# Load the data file\n",
    "inputFilePath = 'C:/Users/Feras/Desktop/LCCM github exmaple/'\n",
    "inputFileName = 'Qualtrics data long format.csv'\n",
    "\n",
    "df = pd.read_csv(open(inputFilePath + inputFileName, 'rb'))\n",
    "\n",
    "# Let's have a quick look at the long format data (first 5 rows)\n",
    "df.head()"
   ]
  },
  {
   "cell_type": "markdown",
   "metadata": {},
   "source": [
    "### Step 3: Model Specification\n",
    "###### 3.1- Tips for running the latent class choice model:\n",
    "* 1) Latent class models are mixture models and have several local maxima so their estimation is not straight forward. \n",
    "* 2) Begin with a simple two class model by randomly intializing starting values of the parameters.\n",
    "\n",
    "* 3) Run the model several times until you get reasonable estimates. \n",
    "* 4) Store these parameter estimates and add another class to the model. \n",
    "* 5) Use the parameter estimates stored earlier as starting values in the new model for the first two classes, and randomize the starting value of parameter estimates for the new latent class.\n",
    "* 6) Repeat the steps(3,4, and 5) as you increase the number of latent classes in the model specification."
   ]
  },
  {
   "cell_type": "code",
   "execution_count": 4,
   "metadata": {
    "collapsed": true
   },
   "outputs": [],
   "source": [
    "# Setting the number of classes in the model to 2\n",
    "n_classes = 2"
   ]
  },
  {
   "cell_type": "markdown",
   "metadata": {},
   "source": [
    "Modify variables, create dummy variables,and scale variables so the estimated coefficients are of similar magnitudes."
   ]
  },
  {
   "cell_type": "code",
   "execution_count": 5,
   "metadata": {
    "collapsed": true
   },
   "outputs": [],
   "source": [
    "# Create a dummy variable indicating whether a certain individual in the sample is male or female\n",
    "df['male'] = (df['Gender']==1).astype(int)\n",
    "\n",
    "# Create a categorical variable to indicate the income level of the household corresponding to each individual\n",
    "# in the sample. We will define three categories: low income (income category  < 6) , medium income\n",
    "# (6 <= income category < 12) and high income (12 <= income category < 16). \n",
    "df['low_income'] = (df['HHIncome']<6).astype(int)\n",
    "df['medium_income'] = ((df['HHIncome']>=6)&(df['HHIncome']<12)).astype(int)\n",
    "df['high_income'] = ((df['HHIncome']>=12)&(df['HHIncome']<16)).astype(int)\n"
   ]
  },
  {
   "cell_type": "markdown",
   "metadata": {},
   "source": [
    "##### 3.2- Membership Model : \n",
    "\n",
    "The specification of the class memeberhsip model used in this example is as follows:\n",
    "\n",
    "\n",
    "$V_{class1} =    0 $\n",
    "\n",
    "$V_{class2} = ASCClass2 +  \\beta_{CarOwnership, class2} * CarOwnerhsip $\n",
    "\n",
    "$+ \\beta_{LowIncome, class2} * LowIncome + \\beta_{HighIncome, class2} * HighIncome $\n",
    "\n",
    "$+ \\beta_{Male, class2} * Male  + \\beta_{DistanceTraveled, class2} * DistanceTraveled $\n",
    "\n"
   ]
  },
  {
   "cell_type": "code",
   "execution_count": 6,
   "metadata": {
    "collapsed": true
   },
   "outputs": [],
   "source": [
    "# NOTE: Specification and variable names must be in list data structures.\n",
    "# class_membership_spec defines the variables names to be used in the specification of the \n",
    "# class membership model.\n",
    "# class_membership_labels defines the names associated with each of the variables which\n",
    "# will be displayed in the output table after estimation.\n",
    "\n",
    "# NOTE: by specifying the word 'intercept' in the class_membership_spec, the code\n",
    "# understands that this denotes an alternative specific constant.\n",
    "\n",
    "# class membership model constrains the utility of the first class to zero by default. \n",
    "# The same socio-demographic variables will be included in the class memeberhship \n",
    "# model of each of the remaining classes (excluding the first class as it is the base).\n",
    "class_membership_spec = ['intercept', 'car_ownership','low_income','high_income',\n",
    "                         'male','distance']\n",
    "class_membership_labels = ['Class-specific constant', 'Car ownership', 'Low Income','High Income', \n",
    "                           'Male','Distance Traveled (miles)']"
   ]
  },
  {
   "cell_type": "markdown",
   "metadata": {},
   "source": [
    "##### 3.3- Defining the choice set for each latent class"
   ]
  },
  {
   "cell_type": "code",
   "execution_count": 7,
   "metadata": {
    "collapsed": true
   },
   "outputs": [],
   "source": [
    "# Set the available alternatives for each latent class\n",
    "# Each array entials the alternatives available in the choice set for each latent class \n",
    "# NOTE: By default the code does not require the user to specify the choice set\n",
    "#       for each class. The code assumes that all alternatives are available in the choice\n",
    "#       set for each latent class.\n",
    "# We are assuming that the bike alternative does not exist in the choice set for latent class 1\n",
    "# We are assuming that all alternatives are available for latent class 2\n",
    "avail_alts = (np.array([1,2,4,5,6]),\n",
    "              np.array([1,2,3,4,5,6]))"
   ]
  },
  {
   "cell_type": "markdown",
   "metadata": {},
   "source": [
    "##### 3.4- Class-specific Choice Model:\n",
    "\n",
    "You can specify your parameters as generic or alternative specific. The following example entails both types of specifications to help the modeler identify how to specify generic versus alternative specific parameters accordingly.\n",
    "\n",
    "In this example, the intercepts are alternative specific and that is done by using only one bracket i.e:'intercept', [2,3,4,5,6]. The first alternative will be the base alternative and hence no intercept is allocated in its utility.\n",
    "\n",
    "Note that we will be constraining the choice set also for latent class 1 whereby for this class we have the following specification: 'intercept', [2,4,5,6]. The bike alternative does not belong in the choice set for this class and hence no parameters will be estimated including the ASC.\n",
    "\n",
    "Travel time parameters across all alternatives for both latent classes are generic. This is done by using two brackets i.e: 'travel_time', [[1,2,3,4,5,6]] according to the specification below. Note that for latent class 1, we drop travel time from alternative 3 (bike) as that alternative does not exist in the choice set.\n",
    "\n",
    "Travel cost parameter is constrained to be the same for the auto and drive to transit alternatives for latent class 1. Also, the travel cost parameter is constrained to be the same for the remaining alternatives in latent class 1. Such a specification is done according to the following script: 'travel_cost', [[1,5],[4,6]] based on the specification below.\n",
    "\n",
    "Travel cost parameter is generic for all alternatives for latent class 2. \n",
    "\n",
    "\n",
    "The specification of the class specific choice model used in this example is as follows:\n",
    "\n",
    "##### Latent Class 1:\n",
    "\n",
    "\n",
    "$V_{auto} =        \\beta_{tt, class1} * TravelTime_{auto} + \\beta_{cost\\_Auto\\&DrivetoTransit, class1} * TravelCost_{auto} $  \n",
    "\n",
    "\n",
    "$V_{walk} = ASCWalk_{class1} + \\beta_{tt, class1} * TravelTime_{walk}$\n",
    "\n",
    "\n",
    "$V_{WalkToTransit} = ASCWalkToTransit_{class1} + \\beta_{tt, class1} * TravelTime_{walktotransit} + \\beta_{cost\\_WalktoTransit\\&PrivateTransit, class1} * TravelCost_{walktotransit} $\n",
    "\n",
    "$V_{DriveToTransit} = ASCDriveToTransit_{class1} + \\beta_{tt, class1} * TravelTime_{drivetotransit} + \n",
    "\\beta_{cost\\_Auto\\&DrivetoTransit, class1} * TravelCost_{drivetotransit} $\n",
    "\n",
    "$V_{PrivateTransit} = ASCPrivateTransit_{class1} + \\beta_{tt, class1} * TravelTime_{privatetransit} + \\beta_{cost\\_WalktoTransit\\&PrivateTransit, class1} * TravelCost_{privatetransit} $\n",
    "\n",
    "\n",
    "##### Latent Class 2:\n",
    "\n",
    "\n",
    "$V_{auto} =        \\beta_{tt, class2} * TravelTime_{auto} + \\beta_{cost, class2} * TravelCost_{auto} $  \n",
    "\n",
    "\n",
    "$V_{walk} = ASCWalk_{class2} + \\beta_{tt, class2} * TravelTime_{walk}$\n",
    "\n",
    "$V_{bike} = ASCBike_{class2} + \\beta_{tt, class2} * TravelTime_{bike}$\n",
    "\n",
    "$V_{WalkToTransit} = ASCWalkToTransit_{class2} + \\beta_{tt, class2} * TravelTime_{walktotransit} + \\beta_{cost, class2} * TravelCost_{walktotransit} $\n",
    "\n",
    "$V_{DriveToTransit} = ASCDriveToTransit_{class2} + \\beta_{tt, class2} * TravelTime_{drivetotransit} + \\beta_{cost, class2} * TravelCost_{drivetotransit} $\n",
    "\n",
    "$V_{PrivateTransit} = ASCPrivateTransit_{class2} + \\beta_{tt, class2} * TravelTime_{privatetransit} + \\beta_{cost, class2} * TravelCost_{privatetransit} $\n"
   ]
  },
  {
   "cell_type": "code",
   "execution_count": 15,
   "metadata": {
    "collapsed": false
   },
   "outputs": [],
   "source": [
    "# NOTE: Specification and variable names must be in lists of ordered dictionaries.\n",
    "# class_specific_specs defines the variables names to be used in the specification of the \n",
    "# class specific choice model of each class.\n",
    "# class_specific_labels defines the names associated with each of the variables which\n",
    "# will be displayed in the output tables after estimation.\n",
    "\n",
    "class_specific_specs = [OrderedDict([('intercept', [2,4,5,6]), \n",
    "                                     ('travel_time', [[1,2,4,5,6]]),\n",
    "                                     ('travel_cost', [[1,5],[4,6]])]),\n",
    "                        OrderedDict([('intercept', [2,3,4,5,6]), \n",
    "                                     ('travel_time', [[1,2,3,4,5,6]]),\n",
    "                                     ('travel_cost', [[1,4,5,6]])])]\n",
    "                       \n",
    "class_specific_labels = [OrderedDict([('ASC', ['ASC(Walk)',\n",
    "                                               'ASC(Walk to Transit)','ASC(Drive to Transit)',\n",
    "                                               'ASC(Private Transit)']),\n",
    "                                      ('Travel Time',['Travel Time ']), \n",
    "                                      ('Travel Cost',['Travel Cost Auto and Drive to Transit', 'Travel Cost WalktoTransit and PrivateTransit'])]),\n",
    "                         OrderedDict([('ASC', ['ASC(Walk)','ASC(Bike)',\n",
    "                                               'ASC(Walk to Transit)','ASC(Drive to Transit)',\n",
    "                                               'ASC(Private Transit)']),\n",
    "                                      ('Travel Time',['Travel Time']), \n",
    "                                      ('Travel Cost',['Travel Cost'])])]"
   ]
  },
  {
   "cell_type": "markdown",
   "metadata": {},
   "source": [
    "### Step 4: Accounting for Choice-based Sampling\n",
    "\n",
    "The code by default assumes a non-choice-based sampling method and hence all individual weights are assumed to be equal to one. However, if the sample is choice-based, then the modeler can account for this by incorporating individual weights for the log-likelihoods. \n",
    "\n",
    "The user needs to specify a 1D numpy array of size that is equal to sample size.\n",
    "Each element accounts for the associated weight for each individual in the data file to cater for the choice based sampling scheme, building off Ben-Akiva and Lerman (1983)."
   ]
  },
  {
   "cell_type": "markdown",
   "metadata": {},
   "source": [
    "### Step 5: Starting Values for Parameter Estimates\n",
    "\n",
    "By default the code does not require the user to specifcy starting values for parameters for both the class membership and class specific choice models. The code will generate random starting values automatically. \n",
    "\n",
    "However, since this is a non-convex optimization problem with multiple local maxima, starting values for parameter estimates are most likely needed as the number of latent classes increases."
   ]
  },
  {
   "cell_type": "code",
   "execution_count": 16,
   "metadata": {
    "collapsed": true
   },
   "outputs": [],
   "source": [
    "# Specify starting values for model parameters. Again this is optional and the modeler does\n",
    "# not have to do so for estimation. \n",
    "# This section can be completely skipped.\n",
    "\n",
    "# Class membership model parameters\n",
    "paramClassMem = np.array([0,0,0,0,0,0])\n",
    "\n",
    "# Class specific choice model parameters\n",
    "paramClassSpec = []\n",
    "for s in range(0, n_classes):\n",
    "    paramClassSpec.append(np.array([-2.14036027,-2.60680512,-2.86731413,-2.65139932,\n",
    "                                    -0.0000189449556,-0.0489097045,-0.0489097045]))\n",
    "    paramClassSpec.append(np.array([1.353,-1.1648,1.0812,-1.9214,1.3328,\n",
    "                                    -1.2960,-0.0796]))"
   ]
  },
  {
   "cell_type": "markdown",
   "metadata": {},
   "source": [
    "### Step 6: Estimation of Latent Class Choice Model and Output Table\n",
    "Estimation of the latent class choice model happens here via this chunk of code that incorporates the specification needed, starting values for parameter estiamtes if needed, choice set for each class if needed, choice-based sampling weights if needed.\n",
    "\n",
    "Following that, the model outputs parameter estimates for the class membership and class-specific choice models in addition to the standard errors, t-stats and p-values. Statistical measures of fit, rho bar squared, AIC, BIC, fitted log-likelihood and other meaures are computed and displayed as well."
   ]
  },
  {
   "cell_type": "code",
   "execution_count": 17,
   "metadata": {
    "collapsed": false
   },
   "outputs": [
    {
     "name": "stdout",
     "output_type": "stream",
     "text": [
      "Processing data\n",
      "Initializing EM Algorithm...\n",
      "\n",
      "<Tue, 18 Apr 2017 15:53:02> Iteration 0: -625.7786\n",
      "<Tue, 18 Apr 2017 15:53:02> Iteration 1: -583.4199\n",
      "<Tue, 18 Apr 2017 15:53:02> Iteration 2: -581.0551\n",
      "<Tue, 18 Apr 2017 15:53:02> Iteration 3: -580.3797\n",
      "<Tue, 18 Apr 2017 15:53:02> Iteration 4: -580.1290\n",
      "<Tue, 18 Apr 2017 15:53:02> Iteration 5: -580.0112\n",
      "<Tue, 18 Apr 2017 15:53:02> Iteration 6: -579.9466\n",
      "<Tue, 18 Apr 2017 15:53:02> Iteration 7: -579.9084\n",
      "<Tue, 18 Apr 2017 15:53:02> Iteration 8: -579.8851\n",
      "<Tue, 18 Apr 2017 15:53:02> Iteration 9: -579.8710\n",
      "<Tue, 18 Apr 2017 15:53:02> Iteration 10: -579.8625\n",
      "<Tue, 18 Apr 2017 15:53:02> Iteration 11: -579.8574\n",
      "<Tue, 18 Apr 2017 15:53:02> Iteration 12: -579.8545\n",
      "<Tue, 18 Apr 2017 15:53:02> Iteration 13: -579.8528\n",
      "<Tue, 18 Apr 2017 15:53:02> Iteration 14: -579.8518\n",
      "<Tue, 18 Apr 2017 15:53:02> Iteration 15: -579.8513\n",
      "<Tue, 18 Apr 2017 15:53:03> Iteration 16: -579.8510\n",
      "<Tue, 18 Apr 2017 15:53:03> Iteration 17: -579.8508\n",
      "<Tue, 18 Apr 2017 15:53:03> Iteration 18: -579.8507\n",
      "\n",
      "Enumerating choices for the sample\n",
      "\n",
      "\n",
      "Number of Parameters:                                 20\n",
      "Number of Observations:                              580\n",
      "Null Log-Likelihood:                             -983.93\n",
      "Fitted Log-Likelihood:                           -579.85\n",
      "Rho-Squared:                                        0.41\n",
      "Rho-Bar-Squared:                                    0.39\n",
      "AIC:                                              1199.7\n",
      "BIC:                                              1287.0\n",
      "Estimation time (minutes):                           0.0\n",
      "\n",
      "\n",
      "\n",
      "Class 1 Model: \n",
      "-----------------------------------------------------------------------------------------\n",
      "Variables                                     parameters    std_err     t_stat    p_value\n",
      "-----------------------------------------------------------------------------------------\n",
      "ASC(Walk)                                        -2.9588     0.3014    -9.8165     0.0000\n",
      "ASC(Walk to Transit)                             -3.2218     0.4639    -6.9454     0.0000\n",
      "ASC(Drive to Transit)                            -3.4901     0.4844    -7.2043     0.0000\n",
      "ASC(Private Transit)                             -3.8271     0.5568    -6.8735     0.0000\n",
      "Travel Time                                       0.0000     0.0000     0.5212     0.6022\n",
      "Travel Cost Auto and Drive to Transit            -0.0224     0.0130    -1.7261     0.0843\n",
      "Travel Cost WalktoTransit and PrivateTransit     -0.0041     0.0123    -0.3305     0.7410\n",
      "-----------------------------------------------------------------------------------------\n",
      "\n",
      "Class 2 Model: \n",
      "-----------------------------------------------------------------------------------------\n",
      "Variables                                     parameters    std_err     t_stat    p_value\n",
      "-----------------------------------------------------------------------------------------\n",
      "ASC(Walk)                                         1.3272     0.1861     7.1319     0.0000\n",
      "ASC(Bike)                                        -1.8951     0.3255    -5.8228     0.0000\n",
      "ASC(Walk to Transit)                              0.6514     0.2643     2.4651     0.0137\n",
      "ASC(Drive to Transit)                            -2.6710     0.7150    -3.7357     0.0002\n",
      "ASC(Private Transit)                              1.4047     0.3550     3.9566     0.0001\n",
      "Travel Time                                      -2.1417     0.2422    -8.8429     0.0000\n",
      "Travel Cost                                      -0.1579     0.0277    -5.7124     0.0000\n",
      "-----------------------------------------------------------------------------------------\n",
      "\n",
      "Class Membership Model:\n",
      "-----------------------------------------------------------------------------------------\n",
      "Variables                                     parameters    std_err     t_stat    p_value\n",
      "-----------------------------------------------------------------------------------------\n",
      "Class-specific constant (Class 2)                 0.6177     0.4413     1.3999     0.1616\n",
      "Car ownership (Class 2)                          -0.3319     0.1679    -1.9765     0.0481\n",
      "Low Income (Class 2)                              0.6386     0.9238     0.6913     0.4894\n",
      "High Income (Class 2)                             0.6278     0.4300     1.4600     0.1443\n",
      "Male (Class 2)                                   -0.7279     0.4117    -1.7680     0.0771\n",
      "Distance Traveled (miles) (Class 2)              -0.0264     0.0191    -1.3818     0.1670\n",
      "-----------------------------------------------------------------------------------------\n"
     ]
    }
   ],
   "source": [
    "# Fit the model\n",
    "# In order to better understand the various variables that are needed as input\n",
    "# in the lccm_fit function, the user is encouraged to use the following command\n",
    "# help(lccm.lccm_fit), which will identify the required input variables in the\n",
    "# lccm_fit function below.\n",
    "\n",
    "with warnings.catch_warnings():\n",
    "    warnings.simplefilter('ignore')\n",
    "    \n",
    "    lccm.lccm_fit(data = df,\n",
    "                  ind_id_col = 'ID', \n",
    "                  obs_id_col = 'custom_id',\n",
    "                  alt_id_col = 'mode_id',\n",
    "                  choice_col = 'choice', \n",
    "                  n_classes = n_classes,\n",
    "                  class_membership_spec = class_membership_spec,\n",
    "                  class_membership_labels = class_membership_labels,\n",
    "                  class_specific_specs = class_specific_specs,\n",
    "                  class_specific_labels = class_specific_labels,\n",
    "                  avail_alts = avail_alts,\n",
    "                  #indWeights = indWeights,\n",
    "                  outputFilePath = inputFilePath,\n",
    "                  paramClassMem = paramClassMem,\n",
    "                  paramClassSpec = paramClassSpec)"
   ]
  },
  {
   "cell_type": "markdown",
   "metadata": {},
   "source": [
    "### Step 7: Sample Enumeration\n",
    "\n",
    "Finally, the model generates a csv file (ModelResultsSampleEnum.csv) in your working directory that calculates the probability of each person belonging to each class and choosing each of the available alternatives across all latent classes. From this file you can generate graphs of percentage class membership and mode choice shares across latent classes.\n",
    "\n",
    "The output (ModelResultsSampleEnum.csv) file will entail the following stacked column-wise:\n",
    "1- index of each individual in the sample\n",
    "2- probability of belonging to each class for each individual\n",
    "3- probability of choosing a certain alternative from the full complete choice set for each latent class. The proabilities are enumerated across all alternatives within a certain class and then looped across all latent classes.\n",
    "\n",
    "An example of this, please refer to the excel file: example sample enumeration.xlsx. Check it out for my detail on how to interpret the sample enumeration results and what sort of plots and results you can quantify. Feel free to perform your analysis in R or Python if excel is not your favorite tool. I simply copy and pasted all values from the ModelResultsSampleEnum.csv file into the sample enumeration.xlsx file and performed the required analysis."
   ]
  }
 ],
 "metadata": {
  "anaconda-cloud": {},
  "kernelspec": {
   "display_name": "Python 2",
   "language": "python",
   "name": "python2"
  },
  "language_info": {
   "codemirror_mode": {
    "name": "ipython",
    "version": 2
   },
   "file_extension": ".py",
   "mimetype": "text/x-python",
   "name": "python",
   "nbconvert_exporter": "python",
   "pygments_lexer": "ipython2",
   "version": "2.7.13"
  }
 },
 "nbformat": 4,
 "nbformat_minor": 0
}
